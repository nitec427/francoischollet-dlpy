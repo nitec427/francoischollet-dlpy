{
 "cells": [
  {
   "cell_type": "markdown",
   "metadata": {},
   "source": [
    "Feature extraction consists of represantations learned by previously trained model."
   ]
  },
  {
   "cell_type": "markdown",
   "metadata": {},
   "source": [
    "Feature extraction consist of taking convolutional base (convlayers + pooling layers, before flattening) and run new data through it, and training a new classifer on top of the output."
   ]
  },
  {
   "cell_type": "markdown",
   "metadata": {},
   "source": [
    "## Why only reuse Convolutional Base?\n",
    "\n",
    "Reusing DENSELY connected layers SHOULD BE AVOIDED. The reason is representations learnde by convbase are likely to be more generic and more reusable. \n",
    "\n",
    "The feature maps of a convnet are presence maps of generic concepts over a picture, which are likely to be useful regardless of the computer vision tasks at hand."
   ]
  },
  {
   "cell_type": "markdown",
   "metadata": {},
   "source": [
    "Neverthless, representations learned by classifer will necessarily be specific to the set o classes on which the model was trained. They'll only contain info about the presence probability of this or that class in entire picture"
   ]
  },
  {
   "cell_type": "markdown",
   "metadata": {},
   "source": [
    "Moreover, Densely Connected layers should not contain info about where objects are located in input image. These layers get rid of notion of space, wherase the object location is still described convolutional feature maps."
   ]
  },
  {
   "cell_type": "code",
   "execution_count": 1,
   "metadata": {},
   "outputs": [],
   "source": [
    "from tensorflow import keras\n",
    "import tensorflow as tf"
   ]
  },
  {
   "cell_type": "code",
   "execution_count": 3,
   "metadata": {},
   "outputs": [],
   "source": [
    "conv_base = keras.applications.vgg16.VGG16(\n",
    "    weights = \"imagenet\", # checkpoint from which initalize the model\n",
    "    include_top = False, # refers to including Densely Connected Classifier on top of network. In this case we have only 2, and model has 1000, so do not use\n",
    "    input_shape = (180,180,3)\n",
    ")"
   ]
  },
  {
   "cell_type": "code",
   "execution_count": 4,
   "metadata": {},
   "outputs": [
    {
     "name": "stdout",
     "output_type": "stream",
     "text": [
      "Model: \"vgg16\"\n",
      "_________________________________________________________________\n",
      " Layer (type)                Output Shape              Param #   \n",
      "=================================================================\n",
      " input_2 (InputLayer)        [(None, 180, 180, 3)]     0         \n",
      "                                                                 \n",
      " block1_conv1 (Conv2D)       (None, 180, 180, 64)      1792      \n",
      "                                                                 \n",
      " block1_conv2 (Conv2D)       (None, 180, 180, 64)      36928     \n",
      "                                                                 \n",
      " block1_pool (MaxPooling2D)  (None, 90, 90, 64)        0         \n",
      "                                                                 \n",
      " block2_conv1 (Conv2D)       (None, 90, 90, 128)       73856     \n",
      "                                                                 \n",
      " block2_conv2 (Conv2D)       (None, 90, 90, 128)       147584    \n",
      "                                                                 \n",
      " block2_pool (MaxPooling2D)  (None, 45, 45, 128)       0         \n",
      "                                                                 \n",
      " block3_conv1 (Conv2D)       (None, 45, 45, 256)       295168    \n",
      "                                                                 \n",
      " block3_conv2 (Conv2D)       (None, 45, 45, 256)       590080    \n",
      "                                                                 \n",
      " block3_conv3 (Conv2D)       (None, 45, 45, 256)       590080    \n",
      "                                                                 \n",
      " block3_pool (MaxPooling2D)  (None, 22, 22, 256)       0         \n",
      "                                                                 \n",
      " block4_conv1 (Conv2D)       (None, 22, 22, 512)       1180160   \n",
      "                                                                 \n",
      " block4_conv2 (Conv2D)       (None, 22, 22, 512)       2359808   \n",
      "                                                                 \n",
      " block4_conv3 (Conv2D)       (None, 22, 22, 512)       2359808   \n",
      "                                                                 \n",
      " block4_pool (MaxPooling2D)  (None, 11, 11, 512)       0         \n",
      "                                                                 \n",
      " block5_conv1 (Conv2D)       (None, 11, 11, 512)       2359808   \n",
      "                                                                 \n",
      " block5_conv2 (Conv2D)       (None, 11, 11, 512)       2359808   \n",
      "                                                                 \n",
      " block5_conv3 (Conv2D)       (None, 11, 11, 512)       2359808   \n",
      "                                                                 \n",
      " block5_pool (MaxPooling2D)  (None, 5, 5, 512)         0         \n",
      "                                                                 \n",
      "=================================================================\n",
      "Total params: 14,714,688\n",
      "Trainable params: 14,714,688\n",
      "Non-trainable params: 0\n",
      "_________________________________________________________________\n"
     ]
    }
   ],
   "source": [
    "conv_base.summary()"
   ]
  },
  {
   "cell_type": "markdown",
   "metadata": {},
   "source": [
    "At this stage we can proceed in 2 ways"
   ]
  },
  {
   "cell_type": "markdown",
   "metadata": {},
   "source": [
    "Run the convolutional base over our dataset, record its output to a NumPy array on disk, and then use this data as input to a standalone, densely connected classifier similar to those you saw in chapter 4 of this book. Fast but not allows data augmentation."
   ]
  },
  {
   "cell_type": "markdown",
   "metadata": {},
   "source": [
    "Or we can extend model by adding Dense Layers on top, and run the whole from end to end on input data. This'll allow data augmentaion, but far more expensive than first one."
   ]
  },
  {
   "cell_type": "markdown",
   "metadata": {},
   "source": [
    "## Fast Feature Extraction without Data Augmentation"
   ]
  },
  {
   "cell_type": "code",
   "execution_count": 10,
   "metadata": {},
   "outputs": [],
   "source": [
    "import numpy as np\n",
    "\n",
    "def get_features_and_labels(dataset):\n",
    "    all_features = []\n",
    "    all_labels = []\n",
    "    \n",
    "    for images, labels in dataset:\n",
    "        preprocessed_images = keras.applications.vgg16.preprocess_input(images)\n",
    "        features = conv_base.predict(preprocessed_images)\n",
    "        all_features.append(features)\n",
    "        all_labels.append(labels)\n",
    "    return np.concatenate(all_features), np.concatenate(all_labels)"
   ]
  },
  {
   "cell_type": "code",
   "execution_count": 14,
   "metadata": {},
   "outputs": [
    {
     "name": "stdout",
     "output_type": "stream",
     "text": [
      "Found 2000 files belonging to 2 classes.\n",
      "Found 1000 files belonging to 2 classes.\n",
      "Found 2000 files belonging to 2 classes.\n"
     ]
    }
   ],
   "source": [
    "import pathlib\n",
    "org_dir = pathlib.Path(\"train\")\n",
    "new_dir = pathlib.Path(\"cats_dogs\")\n",
    "from keras.utils import image_dataset_from_directory\n",
    "train_dataset = image_dataset_from_directory(\n",
    "    new_dir / \"train\", image_size = (180,180), batch_size = 32\n",
    ")\n",
    "\n",
    "validation_set = image_dataset_from_directory(\n",
    "    new_dir / \"validation\", image_size = (180,180), batch_size = 32\n",
    ")\n",
    "\n",
    "test_set = image_dataset_from_directory(\n",
    "    new_dir / \"test\", image_size = (180,180), batch_size = 32\n",
    ")"
   ]
  },
  {
   "cell_type": "code",
   "execution_count": null,
   "metadata": {},
   "outputs": [],
   "source": [
    "train_features, train_labels = get_features_and_labels(train_dataset)\n",
    "val_features, val_labels = get_features_and_labels(validation_set)\n",
    "test_features, test_labels = get_features_and_labels(test_set)"
   ]
  },
  {
   "cell_type": "code",
   "execution_count": 16,
   "metadata": {},
   "outputs": [
    {
     "data": {
      "text/plain": [
       "(2000, 5, 5, 512)"
      ]
     },
     "execution_count": 16,
     "metadata": {},
     "output_type": "execute_result"
    }
   ],
   "source": [
    "train_features.shape"
   ]
  },
  {
   "cell_type": "code",
   "execution_count": 17,
   "metadata": {},
   "outputs": [],
   "source": [
    "inputs = keras.Input(shape = (5,5,512))\n",
    "from keras import layers\n",
    "\n",
    "x = layers.Flatten() (inputs)\n",
    "x = layers.Dense(256) (x)\n",
    "x = layers.Dropout(.5) (x)\n",
    "\n",
    "outputs = layers.Dense(1, activation =\"sigmoid\")(x)\n",
    "model = keras.Model(inputs,outputs)"
   ]
  },
  {
   "cell_type": "code",
   "execution_count": 19,
   "metadata": {},
   "outputs": [],
   "source": [
    "model.compile(loss = \"binary_crossentropy\", optimizer=\"rmsprop\", metrics = [\"accuracy\"])\n",
    "\n",
    "callbacks = [\n",
    "    keras.callbacks.ModelCheckpoint(filepath=\"feature_extraction.keras\",\n",
    "    save_best_only=True,\n",
    "    monitor=\"val_loss\",\n",
    "    )\n",
    "]"
   ]
  },
  {
   "cell_type": "code",
   "execution_count": 20,
   "metadata": {},
   "outputs": [
    {
     "name": "stdout",
     "output_type": "stream",
     "text": [
      "Epoch 1/20\n",
      "63/63 [==============================] - 2s 24ms/step - loss: 17.9977 - accuracy: 0.9175 - val_loss: 5.2326 - val_accuracy: 0.9600\n",
      "Epoch 2/20\n",
      "63/63 [==============================] - 1s 20ms/step - loss: 3.5869 - accuracy: 0.9745 - val_loss: 13.4674 - val_accuracy: 0.9390\n",
      "Epoch 3/20\n",
      "63/63 [==============================] - 1s 20ms/step - loss: 2.2646 - accuracy: 0.9855 - val_loss: 5.5882 - val_accuracy: 0.9720\n",
      "Epoch 4/20\n",
      "63/63 [==============================] - 1s 20ms/step - loss: 1.0256 - accuracy: 0.9890 - val_loss: 5.5708 - val_accuracy: 0.9690\n",
      "Epoch 5/20\n",
      "63/63 [==============================] - 1s 20ms/step - loss: 1.4701 - accuracy: 0.9920 - val_loss: 9.5824 - val_accuracy: 0.9650\n",
      "Epoch 6/20\n",
      "63/63 [==============================] - 1s 21ms/step - loss: 1.3493 - accuracy: 0.9920 - val_loss: 5.6161 - val_accuracy: 0.9760\n",
      "Epoch 7/20\n",
      "63/63 [==============================] - 1s 21ms/step - loss: 1.2512 - accuracy: 0.9930 - val_loss: 6.1698 - val_accuracy: 0.9750\n",
      "Epoch 8/20\n",
      "63/63 [==============================] - 1s 20ms/step - loss: 0.3226 - accuracy: 0.9975 - val_loss: 7.8719 - val_accuracy: 0.9730\n",
      "Epoch 9/20\n",
      "63/63 [==============================] - 1s 20ms/step - loss: 0.3098 - accuracy: 0.9980 - val_loss: 5.6709 - val_accuracy: 0.9780\n",
      "Epoch 10/20\n",
      "63/63 [==============================] - 1s 20ms/step - loss: 0.5268 - accuracy: 0.9945 - val_loss: 6.1815 - val_accuracy: 0.9770\n",
      "Epoch 11/20\n",
      "63/63 [==============================] - 1s 20ms/step - loss: 0.0478 - accuracy: 0.9985 - val_loss: 7.1167 - val_accuracy: 0.9680\n",
      "Epoch 12/20\n",
      "63/63 [==============================] - 1s 21ms/step - loss: 0.1292 - accuracy: 0.9990 - val_loss: 4.3712 - val_accuracy: 0.9790\n",
      "Epoch 13/20\n",
      "63/63 [==============================] - 1s 21ms/step - loss: 0.0332 - accuracy: 0.9995 - val_loss: 6.6177 - val_accuracy: 0.9680\n",
      "Epoch 14/20\n",
      "63/63 [==============================] - 1s 21ms/step - loss: 0.0977 - accuracy: 0.9985 - val_loss: 5.0034 - val_accuracy: 0.9780\n",
      "Epoch 15/20\n",
      "63/63 [==============================] - 1s 20ms/step - loss: 0.1507 - accuracy: 0.9985 - val_loss: 7.5449 - val_accuracy: 0.9680\n",
      "Epoch 16/20\n",
      "63/63 [==============================] - 1s 20ms/step - loss: 0.6155 - accuracy: 0.9960 - val_loss: 9.0079 - val_accuracy: 0.9690\n",
      "Epoch 17/20\n",
      "63/63 [==============================] - 1s 20ms/step - loss: 0.0296 - accuracy: 0.9985 - val_loss: 6.5449 - val_accuracy: 0.9740\n",
      "Epoch 18/20\n",
      "63/63 [==============================] - 1s 20ms/step - loss: 0.0358 - accuracy: 0.9990 - val_loss: 5.6392 - val_accuracy: 0.9790\n",
      "Epoch 19/20\n",
      "63/63 [==============================] - 1s 20ms/step - loss: 1.0845e-24 - accuracy: 1.0000 - val_loss: 5.6392 - val_accuracy: 0.9790\n",
      "Epoch 20/20\n",
      "63/63 [==============================] - 1s 20ms/step - loss: 4.4200e-32 - accuracy: 1.0000 - val_loss: 5.6392 - val_accuracy: 0.9790\n"
     ]
    }
   ],
   "source": [
    "history = model.fit(\n",
    "    train_features, train_labels, epochs = 20, validation_data = (val_features, val_labels), callbacks = callbacks\n",
    ")"
   ]
  },
  {
   "cell_type": "code",
   "execution_count": 22,
   "metadata": {},
   "outputs": [
    {
     "data": {
      "image/png": "[encoded data removed]",
      "text/plain": [
       "<Figure size 432x288 with 1 Axes>"
      ]
     },
     "metadata": {
      "needs_background": "light"
     },
     "output_type": "display_data"
    },
    {
     "data": {
      "image/png": "[encoded data removed]",
      "text/plain": [
       "<Figure size 432x288 with 1 Axes>"
      ]
     },
     "metadata": {
      "needs_background": "light"
     },
     "output_type": "display_data"
    }
   ],
   "source": [
    "import matplotlib.pyplot as plt\n",
    "acc = history.history[\"accuracy\"]\n",
    "val_acc = history.history[\"val_accuracy\"]\n",
    "loss = history.history[\"loss\"]\n",
    "val_loss = history.history[\"val_loss\"]\n",
    "epochs = range(1, len(acc) + 1)\n",
    "plt.plot(epochs, acc, \"bo\", label=\"Training accuracy\")\n",
    "plt.plot(epochs, val_acc, \"b\", label=\"Validation accuracy\")\n",
    "plt.title(\"Training and validation accuracy\")\n",
    "plt.legend()\n",
    "plt.figure()\n",
    "plt.plot(epochs, loss, \"bo\", label=\"Training loss\")\n",
    "plt.plot(epochs, val_loss, \"b\", label=\"Validation loss\")\n",
    "plt.title(\"Training and validation loss\")\n",
    "plt.legend()\n",
    "plt.show()"
   ]
  },
  {
   "cell_type": "code",
   "execution_count": null,
   "metadata": {},
   "outputs": [],
   "source": []
  }
 ],
 "metadata": {
  "kernelspec": {
   "display_name": "Python 3.8.10 64-bit",
   "language": "python",
   "name": "python3"
  },
  "language_info": {
   "codemirror_mode": {
    "name": "ipython",
    "version": 3
   },
   "file_extension": ".py",
   "mimetype": "text/x-python",
   "name": "python",
   "nbconvert_exporter": "python",
   "pygments_lexer": "ipython3",
   "version": "3.8.10"
  },
  "orig_nbformat": 4,
  "vscode": {
   "interpreter": {
    "hash": "31f2aee4e71d21fbe5cf8b01ff0e069b9275f58929596ceb00d14d90e3e16cd6"
   }
  }
 },
 "nbformat": 4,
 "nbformat_minor": 2
}
