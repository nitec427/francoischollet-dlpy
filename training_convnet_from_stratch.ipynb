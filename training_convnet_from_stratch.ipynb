{
 "cells": [
  {
   "cell_type": "code",
   "execution_count": 1,
   "metadata": {},
   "outputs": [],
   "source": [
    "import os, pathlib"
   ]
  },
  {
   "cell_type": "code",
   "execution_count": 4,
   "metadata": {},
   "outputs": [],
   "source": [
    "org_dir = pathlib.Path(\"train\")\n",
    "new_dir = pathlib.Path(\"cats_dogs\")\n",
    "import shutil\n",
    "def make_subset(subset_name, start, end):\n",
    "    for category in (\"cat\", \"dog\"):\n",
    "        dir = new_dir / subset_name / category\n",
    "        os.makedirs(dir)\n",
    "        filenames = [f\"{category}.{i}.jpg\" for i in range(start, end)]\n",
    "        \n",
    "        for f_name in filenames:\n",
    "            shutil.copyfile(src = org_dir / f_name, dst = dir / f_name)\n",
    "\n",
    "make_subset(\"train\", 0, 1000)\n",
    "make_subset(\"validation\", 1000, 1500)\n",
    "make_subset(\"test\", 1500, 2500)"
   ]
  },
  {
   "cell_type": "code",
   "execution_count": 12,
   "metadata": {},
   "outputs": [],
   "source": [
    "from tensorflow import keras\n",
    "from keras import layers\n",
    "import keras\n",
    "inputs = keras.Input(shape=(180,180,3))\n",
    "data_augmentation = keras.Sequential([\n",
    "    layers.RandomFlip(\"horizontal\"),\n",
    "    layers.RandomRotation(.1),\n",
    "    layers.RandomZoom(.2),\n",
    "])\n",
    "x = layers.Rescaling(1./255)(inputs)\n",
    "\n",
    "x = layers.Conv2D(filters = 32, kernel_size=3, activation=\"relu\")(x)\n",
    "x = layers.MaxPooling2D(pool_size=2) (x)"
   ]
  },
  {
   "cell_type": "code",
   "execution_count": 13,
   "metadata": {},
   "outputs": [],
   "source": [
    "x = layers.Conv2D(filters = 64, kernel_size=3, activation=\"relu\")(x)\n",
    "x = layers.MaxPooling2D(pool_size=2)(x)\n",
    "x = layers.Conv2D(filters = 128, kernel_size=3, activation=\"relu\")(x)\n",
    "x = layers.MaxPooling2D(pool_size=2)(x)\n",
    "x = layers.Conv2D(filters = 256, kernel_size=3, activation=\"relu\")(x)\n",
    "x = layers.MaxPooling2D(pool_size=2)(x)\n",
    "x = layers.Conv2D(filters = 256, kernel_size=3, activation=\"relu\")(x)\n",
    "x = layers.Flatten()(x)\n",
    "\n",
    "outputs = layers.Dense(1, activation=\"sigmoid\")(x)\n",
    "\n",
    "model = keras.Model(inputs = inputs, outputs = outputs)"
   ]
  },
  {
   "cell_type": "code",
   "execution_count": 14,
   "metadata": {},
   "outputs": [
    {
     "name": "stdout",
     "output_type": "stream",
     "text": [
      "Model: \"model\"\n",
      "_________________________________________________________________\n",
      " Layer (type)                Output Shape              Param #   \n",
      "=================================================================\n",
      " input_4 (InputLayer)        [(None, 180, 180, 3)]     0         \n",
      "                                                                 \n",
      " rescaling_3 (Rescaling)     (None, 180, 180, 3)       0         \n",
      "                                                                 \n",
      " conv2d_7 (Conv2D)           (None, 178, 178, 32)      896       \n",
      "                                                                 \n",
      " max_pooling2d_3 (MaxPooling  (None, 89, 89, 32)       0         \n",
      " 2D)                                                             \n",
      "                                                                 \n",
      " conv2d_8 (Conv2D)           (None, 87, 87, 64)        18496     \n",
      "                                                                 \n",
      " max_pooling2d_4 (MaxPooling  (None, 43, 43, 64)       0         \n",
      " 2D)                                                             \n",
      "                                                                 \n",
      " conv2d_9 (Conv2D)           (None, 41, 41, 128)       73856     \n",
      "                                                                 \n",
      " max_pooling2d_5 (MaxPooling  (None, 20, 20, 128)      0         \n",
      " 2D)                                                             \n",
      "                                                                 \n",
      " conv2d_10 (Conv2D)          (None, 18, 18, 256)       295168    \n",
      "                                                                 \n",
      " max_pooling2d_6 (MaxPooling  (None, 9, 9, 256)        0         \n",
      " 2D)                                                             \n",
      "                                                                 \n",
      " conv2d_11 (Conv2D)          (None, 7, 7, 256)         590080    \n",
      "                                                                 \n",
      " flatten (Flatten)           (None, 12544)             0         \n",
      "                                                                 \n",
      " dense (Dense)               (None, 1)                 12545     \n",
      "                                                                 \n",
      "=================================================================\n",
      "Total params: 991,041\n",
      "Trainable params: 991,041\n",
      "Non-trainable params: 0\n",
      "_________________________________________________________________\n"
     ]
    }
   ],
   "source": [
    "model.summary()"
   ]
  },
  {
   "cell_type": "code",
   "execution_count": 15,
   "metadata": {},
   "outputs": [],
   "source": [
    "model.compile(loss=\"binary_crossentropy\", optimizer=\"rmsprop\", metrics=[\"accuracy\"])"
   ]
  },
  {
   "cell_type": "markdown",
   "metadata": {},
   "source": [
    "## Data Preprocessing with Keras\n",
    "\n",
    "Keras comes with image_dataset_from_directory function to easily prepare data"
   ]
  },
  {
   "cell_type": "code",
   "execution_count": 16,
   "metadata": {},
   "outputs": [
    {
     "name": "stdout",
     "output_type": "stream",
     "text": [
      "Found 2000 files belonging to 2 classes.\n",
      "Found 1000 files belonging to 2 classes.\n",
      "Found 2000 files belonging to 2 classes.\n"
     ]
    }
   ],
   "source": [
    "from keras.utils import image_dataset_from_directory\n",
    "train_dataset = image_dataset_from_directory(\n",
    "    new_dir / \"train\", image_size = (180,180), batch_size = 32\n",
    ")\n",
    "\n",
    "validation_set = image_dataset_from_directory(\n",
    "    new_dir / \"validation\", image_size = (180,180), batch_size = 32\n",
    ")\n",
    "\n",
    "test_set = image_dataset_from_directory(\n",
    "    new_dir / \"test\", image_size = (180,180), batch_size = 32\n",
    ")"
   ]
  },
  {
   "cell_type": "markdown",
   "metadata": {},
   "source": [
    "This preprocessing step generates tf.Data.Dataset from image files in a directory, like PyTorch"
   ]
  },
  {
   "cell_type": "code",
   "execution_count": 17,
   "metadata": {},
   "outputs": [
    {
     "data": {
      "text/plain": [
       "tensorflow.python.data.ops.dataset_ops.BatchDataset"
      ]
     },
     "execution_count": 17,
     "metadata": {},
     "output_type": "execute_result"
    }
   ],
   "source": [
    "type(train_dataset)"
   ]
  },
  {
   "cell_type": "markdown",
   "metadata": {},
   "source": [
    "A Dataset object is an iterator, for loop can be used to extract data. Typically, it returns batches of input data and labels. "
   ]
  },
  {
   "cell_type": "code",
   "execution_count": 19,
   "metadata": {},
   "outputs": [
    {
     "name": "stdout",
     "output_type": "stream",
     "text": [
      "Data batch shape:  (32, 180, 180, 3)\n",
      "Labels batch shape:  (32,)\n"
     ]
    }
   ],
   "source": [
    "for data_batch, labels_batch in train_dataset:\n",
    "    print(\"Data batch shape: \", data_batch.shape)\n",
    "    print(\"Labels batch shape: \", labels_batch.shape)\n",
    "    break"
   ]
  },
  {
   "cell_type": "markdown",
   "metadata": {},
   "source": [
    "To fit the model on dataset, **validation set** will be used."
   ]
  },
  {
   "cell_type": "code",
   "execution_count": 20,
   "metadata": {},
   "outputs": [],
   "source": [
    "callbacks = [keras.callbacks.ModelCheckpoint(filepath=\"convnet_from_stratch.keras\", save_best_only=True, monitor = \"val_loss\")]"
   ]
  },
  {
   "cell_type": "code",
   "execution_count": 21,
   "metadata": {},
   "outputs": [
    {
     "name": "stdout",
     "output_type": "stream",
     "text": [
      "Epoch 1/30\n",
      "63/63 [==============================] - 42s 659ms/step - loss: 0.7345 - accuracy: 0.5060 - val_loss: 0.6928 - val_accuracy: 0.5010\n",
      "Epoch 2/30\n",
      "63/63 [==============================] - 40s 638ms/step - loss: 0.6986 - accuracy: 0.5180 - val_loss: 0.7890 - val_accuracy: 0.5000\n",
      "Epoch 3/30\n",
      "63/63 [==============================] - 41s 652ms/step - loss: 0.7048 - accuracy: 0.5515 - val_loss: 0.8431 - val_accuracy: 0.5390\n",
      "Epoch 4/30\n",
      "63/63 [==============================] - 41s 651ms/step - loss: 0.6483 - accuracy: 0.6235 - val_loss: 0.7160 - val_accuracy: 0.5420\n",
      "Epoch 5/30\n",
      "63/63 [==============================] - 40s 634ms/step - loss: 0.6128 - accuracy: 0.6565 - val_loss: 0.6295 - val_accuracy: 0.6260\n",
      "Epoch 6/30\n",
      "63/63 [==============================] - 40s 636ms/step - loss: 0.5886 - accuracy: 0.6900 - val_loss: 0.8040 - val_accuracy: 0.6040\n",
      "Epoch 7/30\n",
      "63/63 [==============================] - 40s 637ms/step - loss: 0.5496 - accuracy: 0.7210 - val_loss: 0.6002 - val_accuracy: 0.6890\n",
      "Epoch 8/30\n",
      "63/63 [==============================] - 42s 662ms/step - loss: 0.5107 - accuracy: 0.7560 - val_loss: 0.5805 - val_accuracy: 0.7030\n",
      "Epoch 9/30\n",
      "63/63 [==============================] - 47s 738ms/step - loss: 0.4790 - accuracy: 0.7880 - val_loss: 0.6509 - val_accuracy: 0.7030\n",
      "Epoch 10/30\n",
      "63/63 [==============================] - 49s 772ms/step - loss: 0.4311 - accuracy: 0.8090 - val_loss: 0.5570 - val_accuracy: 0.7350\n",
      "Epoch 11/30\n",
      "63/63 [==============================] - 44s 692ms/step - loss: 0.3864 - accuracy: 0.8245 - val_loss: 0.6066 - val_accuracy: 0.7090\n",
      "Epoch 12/30\n",
      "63/63 [==============================] - 45s 715ms/step - loss: 0.3326 - accuracy: 0.8595 - val_loss: 0.6390 - val_accuracy: 0.7350\n",
      "Epoch 13/30\n",
      "63/63 [==============================] - 43s 688ms/step - loss: 0.2859 - accuracy: 0.8775 - val_loss: 0.7115 - val_accuracy: 0.7260\n",
      "Epoch 14/30\n",
      "63/63 [==============================] - 44s 692ms/step - loss: 0.2389 - accuracy: 0.9015 - val_loss: 0.8056 - val_accuracy: 0.7260\n",
      "Epoch 15/30\n",
      "63/63 [==============================] - 44s 703ms/step - loss: 0.1806 - accuracy: 0.9270 - val_loss: 0.7742 - val_accuracy: 0.7340\n",
      "Epoch 16/30\n",
      "63/63 [==============================] - 40s 637ms/step - loss: 0.1482 - accuracy: 0.9365 - val_loss: 0.9092 - val_accuracy: 0.7340\n",
      "Epoch 17/30\n",
      "63/63 [==============================] - 41s 650ms/step - loss: 0.1118 - accuracy: 0.9565 - val_loss: 1.1189 - val_accuracy: 0.7360\n",
      "Epoch 18/30\n",
      "63/63 [==============================] - 40s 636ms/step - loss: 0.0956 - accuracy: 0.9660 - val_loss: 1.2883 - val_accuracy: 0.6980\n",
      "Epoch 19/30\n",
      "63/63 [==============================] - 41s 643ms/step - loss: 0.0951 - accuracy: 0.9635 - val_loss: 1.4246 - val_accuracy: 0.7390\n",
      "Epoch 20/30\n",
      "63/63 [==============================] - 40s 638ms/step - loss: 0.0756 - accuracy: 0.9710 - val_loss: 1.4718 - val_accuracy: 0.7400\n",
      "Epoch 21/30\n",
      "63/63 [==============================] - 43s 676ms/step - loss: 0.0671 - accuracy: 0.9775 - val_loss: 1.5873 - val_accuracy: 0.7270\n",
      "Epoch 22/30\n",
      "63/63 [==============================] - 42s 659ms/step - loss: 0.0492 - accuracy: 0.9825 - val_loss: 1.9369 - val_accuracy: 0.7030\n",
      "Epoch 23/30\n",
      "63/63 [==============================] - 41s 650ms/step - loss: 0.0649 - accuracy: 0.9800 - val_loss: 1.7539 - val_accuracy: 0.7220\n",
      "Epoch 24/30\n",
      "63/63 [==============================] - 44s 693ms/step - loss: 0.0642 - accuracy: 0.9770 - val_loss: 1.5881 - val_accuracy: 0.7430\n",
      "Epoch 25/30\n",
      "63/63 [==============================] - 40s 633ms/step - loss: 0.0530 - accuracy: 0.9820 - val_loss: 1.8417 - val_accuracy: 0.7200\n",
      "Epoch 26/30\n",
      "63/63 [==============================] - 44s 699ms/step - loss: 0.0495 - accuracy: 0.9850 - val_loss: 1.7441 - val_accuracy: 0.7470\n",
      "Epoch 27/30\n",
      "63/63 [==============================] - 42s 671ms/step - loss: 0.0545 - accuracy: 0.9825 - val_loss: 2.8235 - val_accuracy: 0.6660\n",
      "Epoch 28/30\n",
      "63/63 [==============================] - 42s 659ms/step - loss: 0.1631 - accuracy: 0.9805 - val_loss: 1.9413 - val_accuracy: 0.7370\n",
      "Epoch 29/30\n",
      "63/63 [==============================] - 41s 657ms/step - loss: 0.0175 - accuracy: 0.9965 - val_loss: 2.3946 - val_accuracy: 0.7340\n",
      "Epoch 30/30\n",
      "63/63 [==============================] - 41s 658ms/step - loss: 0.0675 - accuracy: 0.9755 - val_loss: 2.3465 - val_accuracy: 0.7460\n"
     ]
    }
   ],
   "source": [
    "history = model.fit(\n",
    "train_dataset,\n",
    "epochs=30,\n",
    "validation_data=validation_set,\n",
    "callbacks=callbacks)"
   ]
  },
  {
   "cell_type": "code",
   "execution_count": 22,
   "metadata": {},
   "outputs": [
    {
     "data": {
      "text/plain": [
       "<Figure size 432x288 with 0 Axes>"
      ]
     },
     "execution_count": 22,
     "metadata": {},
     "output_type": "execute_result"
    },
    {
     "data": {
      "image/png": "[encoded data removed]",
      "text/plain": [
       "<Figure size 432x288 with 1 Axes>"
      ]
     },
     "metadata": {
      "needs_background": "light"
     },
     "output_type": "display_data"
    },
    {
     "data": {
      "text/plain": [
       "<Figure size 432x288 with 0 Axes>"
      ]
     },
     "metadata": {},
     "output_type": "display_data"
    }
   ],
   "source": [
    "import matplotlib.pyplot as plt\n",
    "accuracy  = history.history[\"accuracy\"]\n",
    "val_accuracy = history.history[\"val_accuracy\"]\n",
    "loss = history.history[\"loss\"]\n",
    "val_loss = history.history[\"val_loss\"]\n",
    "epochs = range(1, len(accuracy) + 1)\n",
    "\n",
    "plt.plot(epochs, accuracy, \"bo\", label = \"Training Accuracy\")\n",
    "plt.plot(epochs, val_accuracy, \"b\", label = \"Validation Accuracy\" )\n",
    "\n",
    "plt.legend()\n",
    "plt.figure()"
   ]
  },
  {
   "cell_type": "markdown",
   "metadata": {},
   "source": [
    "Data Augmentation\n",
    "\n",
    "When you have few training samples, better to use Data Augmentation. You may also reduce overfitting by using weight decay (L2 Regularization) or dropout."
   ]
  },
  {
   "cell_type": "markdown",
   "metadata": {},
   "source": [
    "### Leveraging PreTrained Model\n",
    "\n",
    "On small image datasets, using pretrained models performs well. There are two ways to use a pretrained model: Feature Extraction and Fine-Tuning"
   ]
  },
  {
   "cell_type": "code",
   "execution_count": 23,
   "metadata": {},
   "outputs": [
    {
     "name": "stdout",
     "output_type": "stream",
     "text": [
      "63/63 [==============================] - 9s 136ms/step - loss: 0.5588 - accuracy: 0.7445\n",
      "Acc: 0.7444999814033508 \n"
     ]
    }
   ],
   "source": [
    "test_model = keras.models.load_model(\"convnet_from_stratch.keras\")\n",
    "test_loss, test_acc = test_model.evaluate(test_set)\n",
    "print(f\"Acc: {test_acc} \")"
   ]
  },
  {
   "cell_type": "code",
   "execution_count": null,
   "metadata": {},
   "outputs": [],
   "source": []
  }
 ],
 "metadata": {
  "kernelspec": {
   "display_name": "Python 3.8.10 64-bit",
   "language": "python",
   "name": "python3"
  },
  "language_info": {
   "codemirror_mode": {
    "name": "ipython",
    "version": 3
   },
   "file_extension": ".py",
   "mimetype": "text/x-python",
   "name": "python",
   "nbconvert_exporter": "python",
   "pygments_lexer": "ipython3",
   "version": "3.8.10"
  },
  "orig_nbformat": 4,
  "vscode": {
   "interpreter": {
    "hash": "31f2aee4e71d21fbe5cf8b01ff0e069b9275f58929596ceb00d14d90e3e16cd6"
   }
  }
 },
 "nbformat": 4,
 "nbformat_minor": 2
}
